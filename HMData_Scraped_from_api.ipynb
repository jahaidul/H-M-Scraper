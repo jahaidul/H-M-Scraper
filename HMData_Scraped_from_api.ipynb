{
 "cells": [
  {
   "cell_type": "code",
   "execution_count": null,
   "id": "902bd6fd-c647-46b1-8460-4d82a19bbb97",
   "metadata": {},
   "outputs": [],
   "source": [
    "import requests"
   ]
  },
  {
   "cell_type": "code",
   "execution_count": null,
   "id": "69e5095c-e812-46e7-841c-6fed059355a3",
   "metadata": {},
   "outputs": [],
   "source": [
    "import json"
   ]
  },
  {
   "cell_type": "code",
   "execution_count": null,
   "id": "f0f0249a-11ba-484c-98bf-aa3d649543c2",
   "metadata": {},
   "outputs": [],
   "source": [
    "headers={'User-Agent': 'Mozilla/5.0 (WindowsNT10.0;Win64;x64)AppleWebKit/537.36(KHTML,likeGecko)Chrome/102.0.0.0 Safari/537.36'}"
   ]
  },
  {
   "cell_type": "code",
   "execution_count": null,
   "id": "9c2677af-7ba6-4e1e-b60b-d93bd6c4ee34",
   "metadata": {},
   "outputs": [],
   "source": [
    "url=\"https://www2.hm.com/en_us/women/new-arrivals/view-all/_jcr_content/main/productlisting.display.json?sort=stock&image-size=small&image=model&offset=36&page-size=970\""
   ]
  },
  {
   "cell_type": "code",
   "execution_count": null,
   "id": "d7682364-6860-4acb-915e-61927c379cf9",
   "metadata": {},
   "outputs": [],
   "source": [
    "page=  requests.get(url,headers=headers)"
   ]
  },
  {
   "cell_type": "code",
   "execution_count": null,
   "id": "7d85a01a-040b-4f82-b8d0-b09ff5447253",
   "metadata": {},
   "outputs": [],
   "source": [
    "response=page.json()"
   ]
  },
  {
   "cell_type": "code",
   "execution_count": null,
   "id": "ebbb7a7f-c20f-44ea-8fbc-8404c68553bb",
   "metadata": {},
   "outputs": [],
   "source": [
    "response.keys()"
   ]
  },
  {
   "cell_type": "code",
   "execution_count": null,
   "id": "4ed5f8a0-f530-4f61-a2a9-19323a1b6d12",
   "metadata": {},
   "outputs": [],
   "source": [
    "response[\"products\"][0].keys()"
   ]
  },
  {
   "cell_type": "code",
   "execution_count": null,
   "id": "aeafe698-5e8f-41f4-ba61-5e5a276ff307",
   "metadata": {},
   "outputs": [],
   "source": [
    "Titile=response[\"products\"][0][\"title\"]"
   ]
  },
  {
   "cell_type": "code",
   "execution_count": null,
   "id": "f8123d61-5af8-49e7-bdc0-f4bcc62b3494",
   "metadata": {},
   "outputs": [],
   "source": [
    "Price=response[\"products\"][0][\"price\"]"
   ]
  },
  {
   "cell_type": "code",
   "execution_count": null,
   "id": "f346a902-b2de-4ee3-8073-2fb8d7def335",
   "metadata": {},
   "outputs": [],
   "source": [
    "redPrice=response[\"products\"][0][\"redPrice\"]"
   ]
  },
  {
   "cell_type": "code",
   "execution_count": null,
   "id": "40bc5b3a-65f5-4acb-b4e0-42c1dd9f00a2",
   "metadata": {},
   "outputs": [],
   "source": [
    "yellowPrice=response[\"products\"][0][\"yellowPrice\"]"
   ]
  },
  {
   "cell_type": "code",
   "execution_count": null,
   "id": "0ec8f1d6-8c68-4c3f-8936-8418b3457ec0",
   "metadata": {},
   "outputs": [],
   "source": [
    "bluePrice=response[\"products\"][0][\"bluePrice\"]"
   ]
  },
  {
   "cell_type": "code",
   "execution_count": null,
   "id": "0ed8b7c1-cdde-4602-9042-129423bf803b",
   "metadata": {},
   "outputs": [],
   "source": [
    "brandName=response[\"products\"][0][\"brandName\"]"
   ]
  },
  {
   "cell_type": "code",
   "execution_count": null,
   "id": "3867d7ea-2e01-4c3e-b575-6857028f09fb",
   "metadata": {},
   "outputs": [],
   "source": [
    "category=response[\"products\"][0][\"category\"]"
   ]
  },
  {
   "cell_type": "code",
   "execution_count": null,
   "id": "0c1bc2f1-962f-44ad-b5d2-ac02fd531abd",
   "metadata": {},
   "outputs": [],
   "source": [
    "swatchesTotal=response[\"products\"][0][\"swatchesTotal\"]"
   ]
  },
  {
   "cell_type": "code",
   "execution_count": null,
   "id": "d4594cfa-fa25-425d-80cc-4918712cc8e9",
   "metadata": {},
   "outputs": [],
   "source": [
    "sellingAttribute=response[\"products\"][0][\"sellingAttribute\"]"
   ]
  },
  {
   "cell_type": "code",
   "execution_count": null,
   "id": "ddb419b2-7d00-42ce-82e6-914f441097e2",
   "metadata": {},
   "outputs": [],
   "source": [
    "image=response[\"products\"][0][\"image\"][0][\"src\"]"
   ]
  },
  {
   "cell_type": "code",
   "execution_count": null,
   "id": "3fbb1c87-fb28-4d0e-98f3-84664c99915c",
   "metadata": {},
   "outputs": [],
   "source": [
    "link=\"https://www2.hm.com\"+response[\"products\"][0][\"link\"]"
   ]
  },
  {
   "cell_type": "code",
   "execution_count": null,
   "id": "8282e723-0e46-4f6d-898e-f2c21d9a34dc",
   "metadata": {},
   "outputs": [],
   "source": [
    "HMData=[]\n",
    "for product_all in range(950):\n",
    "    Productwisedata = {\n",
    "    \"Titile\":response[\"products\"][product_all][\"title\"],\n",
    "    \"Price\":response[\"products\"][product_all][\"price\"],\n",
    "    \"redPrice\":response[\"products\"][product_all][\"redPrice\"],\n",
    "    \"yellowPrice\":response[\"products\"][product_all][\"yellowPrice\"],\n",
    "    \"bluePrice\":response[\"products\"][product_all][\"bluePrice\"],\n",
    "    \"brandName\":response[\"products\"][product_all][\"brandName\"],\n",
    "    \"category\":response[\"products\"][product_all][\"category\"],\n",
    "    \"swatchesTotal\":response[\"products\"][product_all][\"swatchesTotal\"],\n",
    "    \"sellingAttribute\":response[\"products\"][product_all][\"sellingAttribute\"],\n",
    "    \"link\":\"https://www2.hm.com\"+response[\"products\"][product_all][\"link\"]\n",
    "    }\n",
    "    print(Productwisedata)\n",
    "    HMData.append(Productwisedata)"
   ]
  },
  {
   "cell_type": "code",
   "execution_count": null,
   "id": "74a717e1-4def-4c1b-b816-3196ced6f906",
   "metadata": {},
   "outputs": [],
   "source": [
    "import pandas as pd\n",
    "df = pd.DataFrame(HMData)"
   ]
  },
  {
   "cell_type": "code",
   "execution_count": null,
   "id": "59041612-40e6-414b-a9f4-ee56dcc9610a",
   "metadata": {},
   "outputs": [],
   "source": [
    "df"
   ]
  },
  {
   "cell_type": "code",
   "execution_count": null,
   "id": "496773eb-e780-47be-86e2-053e1512eb45",
   "metadata": {},
   "outputs": [],
   "source": [
    "df.to_csv('HMData.csv')"
   ]
  },
  {
   "cell_type": "code",
   "execution_count": null,
   "id": "cd384890-5d34-4182-9a2f-23a40a9914a1",
   "metadata": {},
   "outputs": [],
   "source": []
  }
 ],
 "metadata": {
  "kernelspec": {
   "display_name": "Python 3 (ipykernel)",
   "language": "python",
   "name": "python3"
  },
  "language_info": {
   "codemirror_mode": {
    "name": "ipython",
    "version": 3
   },
   "file_extension": ".py",
   "mimetype": "text/x-python",
   "name": "python",
   "nbconvert_exporter": "python",
   "pygments_lexer": "ipython3",
   "version": "3.10.6"
  }
 },
 "nbformat": 4,
 "nbformat_minor": 5
}
